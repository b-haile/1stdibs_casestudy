{
 "cells": [
  {
   "cell_type": "code",
   "execution_count": 64,
   "metadata": {},
   "outputs": [],
   "source": [
    "import pandas as pd"
   ]
  },
  {
   "cell_type": "markdown",
   "metadata": {},
   "source": [
    "### Combining Seller Sheets"
   ]
  },
  {
   "cell_type": "code",
   "execution_count": 65,
   "metadata": {},
   "outputs": [],
   "source": [
    "dib1 = pd.read_csv(\"Worksheets/dib1.csv\")\n",
    "dib2 = pd.read_csv(\"Worksheets/dib2.csv\")\n",
    "dib3 = pd.read_csv(\"Worksheets/dib3.csv\")\n",
    "\n",
    "ff = pd.concat([dib1, dib2, dib3], axis=0).drop(['Unnamed: 8', 'Unnamed: 9', 'Unnamed: 10',\n",
    "       'Unnamed: 11', 'Unnamed: 12', 'Unnamed: 13', 'Unnamed: 14',\n",
    "       'Unnamed: 15', 'Unnamed: 16', 'Unnamed: 17', 'Unnamed: 18',\n",
    "       'Unnamed: 19', 'Unnamed: 20', 'Unnamed: 21', 'Unnamed: 22',\n",
    "       'Unnamed: 23', 'Unnamed: 24', 'Unnamed: 25'], axis=1)"
   ]
  },
  {
   "cell_type": "markdown",
   "metadata": {},
   "source": [
    "### Merging Address Data with Seller Data"
   ]
  },
  {
   "cell_type": "code",
   "execution_count": 66,
   "metadata": {},
   "outputs": [],
   "source": [
    "ad = pd.read_csv(\"Worksheets/addresses.csv\")\n",
    "ad = ad.drop(['Unnamed: 3', 'Unnamed: 4',\n",
    "       'Unnamed: 5', 'Unnamed: 6', 'Unnamed: 7', 'Unnamed: 8', 'Unnamed: 9',\n",
    "       'Unnamed: 10', 'Unnamed: 11', 'Unnamed: 12', 'Unnamed: 13',\n",
    "       'Unnamed: 14', 'Unnamed: 15', 'Unnamed: 16', 'Unnamed: 17',\n",
    "       'Unnamed: 18', 'Unnamed: 19', 'Unnamed: 20', 'Unnamed: 21',\n",
    "       'Unnamed: 22', 'Unnamed: 23', 'Unnamed: 24', 'Unnamed: 25'], axis=1)\n",
    "\n",
    "adxref = pd.read_csv(\"Worksheets/addresses_xref.csv\")\n",
    "adxref = adxref.drop(['Unnamed: 5', 'Unnamed: 6', 'Unnamed: 7', 'Unnamed: 8', 'Unnamed: 9',\n",
    "       'Unnamed: 10', 'Unnamed: 11', 'Unnamed: 12', 'Unnamed: 13',\n",
    "       'Unnamed: 14', 'Unnamed: 15', 'Unnamed: 16', 'Unnamed: 17',\n",
    "       'Unnamed: 18', 'Unnamed: 19', 'Unnamed: 20', 'Unnamed: 21',\n",
    "       'Unnamed: 22', 'Unnamed: 23', 'Unnamed: 24', 'Unnamed: 25'], axis=1)\n",
    "\n",
    "adds = pd.merge(ad, adxref, left_on='id', right_on='address_id', how='outer').drop(['id_x', 'id_y'], \n",
    "                                                                                   axis=1)"
   ]
  },
  {
   "cell_type": "code",
   "execution_count": 67,
   "metadata": {},
   "outputs": [],
   "source": [
    "ff = pd.merge(ff, adds, on='seller_pk')"
   ]
  },
  {
   "cell_type": "markdown",
   "metadata": {},
   "source": [
    "### Adding Account and Contact Records"
   ]
  },
  {
   "cell_type": "code",
   "execution_count": 68,
   "metadata": {},
   "outputs": [],
   "source": [
    "a_r = pd.read_csv(\"Worksheets/account_records.csv\")\n",
    "a_r = a_r.drop(['Unnamed: 3', 'Unnamed: 4',\n",
    "       'Unnamed: 5', 'Unnamed: 6', 'Unnamed: 7', 'Unnamed: 8', 'Unnamed: 9',\n",
    "       'Unnamed: 10', 'Unnamed: 11', 'Unnamed: 12', 'Unnamed: 13',\n",
    "       'Unnamed: 14', 'Unnamed: 15', 'Unnamed: 16', 'Unnamed: 17',\n",
    "       'Unnamed: 18', 'Unnamed: 19', 'Unnamed: 20', 'Unnamed: 21',\n",
    "       'Unnamed: 22', 'Unnamed: 23', 'Unnamed: 24', 'Unnamed: 25'], axis=1)\n",
    "\n",
    "c_r = pd.read_csv(\"Worksheets/contact_records.csv\")\n",
    "c_r = c_r.drop(['Unnamed: 3', 'Unnamed: 4',\n",
    "       'Unnamed: 5', 'Unnamed: 6', 'Unnamed: 7', 'Unnamed: 8', 'Unnamed: 9',\n",
    "       'Unnamed: 10', 'Unnamed: 11', 'Unnamed: 12', 'Unnamed: 13',\n",
    "       'Unnamed: 14', 'Unnamed: 15', 'Unnamed: 16', 'Unnamed: 17',\n",
    "       'Unnamed: 18', 'Unnamed: 19', 'Unnamed: 20', 'Unnamed: 21',\n",
    "       'Unnamed: 22', 'Unnamed: 23', 'Unnamed: 24', 'Unnamed: 25'], axis=1)\n",
    "\n",
    "records = pd.merge(a_r, c_r, on='seller_pk').drop(['id_x', 'id_y'], axis=1)"
   ]
  },
  {
   "cell_type": "code",
   "execution_count": 69,
   "metadata": {},
   "outputs": [],
   "source": [
    "ff = pd.merge(ff, records, on='seller_pk')"
   ]
  },
  {
   "cell_type": "markdown",
   "metadata": {},
   "source": [
    "### Updating Seller Status Columns"
   ]
  },
  {
   "cell_type": "code",
   "execution_count": 70,
   "metadata": {},
   "outputs": [],
   "source": [
    "ff['seller_status_code'] = ff.seller_status_code.str.replace('.', ' - ')\n",
    "ff['seller_status_code'] = ff.seller_status_code.str.title()\n",
    "ff['seller_status'] = ff.seller_status.str.title()"
   ]
  },
  {
   "cell_type": "code",
   "execution_count": 71,
   "metadata": {},
   "outputs": [],
   "source": [
    "ff['seller_distinguished'].fillna(0, inplace=True)\n",
    "ff['seller_distinguished'].replace('DISTINGUISHED', 1, inplace=True)"
   ]
  },
  {
   "cell_type": "markdown",
   "metadata": {},
   "source": [
    "### Converting the Date and Time"
   ]
  },
  {
   "cell_type": "code",
   "execution_count": 72,
   "metadata": {},
   "outputs": [],
   "source": [
    "ff['seller_date_registered'] = ff['seller_date_registered'].astype(int)\n",
    "ff['seller_date_contract_start'] = ff['seller_date_contract_start'].astype(int)"
   ]
  },
  {
   "cell_type": "code",
   "execution_count": 73,
   "metadata": {},
   "outputs": [],
   "source": [
    "ff['seller_date_registered'] = pd.to_datetime(ff['seller_date_registered'], unit='s')\n",
    "ff['seller_date_contract_start'] = pd.to_datetime(ff['seller_date_contract_start'], unit='s')"
   ]
  },
  {
   "cell_type": "code",
   "execution_count": 74,
   "metadata": {},
   "outputs": [],
   "source": [
    "ff['seller_date_registered'] = pd.to_datetime(ff['seller_date_registered'], unit='s')\n",
    "ff['seller_date_contract_start'] = pd.to_datetime(ff['seller_date_contract_start'], unit='s')"
   ]
  },
  {
   "cell_type": "markdown",
   "metadata": {},
   "source": [
    "### Updating Column Headers and Exporting CSV"
   ]
  },
  {
   "cell_type": "code",
   "execution_count": 75,
   "metadata": {},
   "outputs": [],
   "source": [
    "ff.drop(['id', 'address_id'], axis=1, inplace=True)\n",
    "\n",
    "ff.columns = ff.columns.str.title().str.replace('_', ' ')"
   ]
  },
  {
   "cell_type": "code",
   "execution_count": 79,
   "metadata": {},
   "outputs": [],
   "source": [
    "ff.to_csv(r'final_script.csv', index=False)"
   ]
  },
  {
   "cell_type": "code",
   "execution_count": 77,
   "metadata": {},
   "outputs": [
    {
     "data": {
      "text/html": [
       "<div>\n",
       "<style scoped>\n",
       "    .dataframe tbody tr th:only-of-type {\n",
       "        vertical-align: middle;\n",
       "    }\n",
       "\n",
       "    .dataframe tbody tr th {\n",
       "        vertical-align: top;\n",
       "    }\n",
       "\n",
       "    .dataframe thead th {\n",
       "        text-align: right;\n",
       "    }\n",
       "</style>\n",
       "<table border=\"1\" class=\"dataframe\">\n",
       "  <thead>\n",
       "    <tr style=\"text-align: right;\">\n",
       "      <th></th>\n",
       "      <th>Seller Pk</th>\n",
       "      <th>Seller Status</th>\n",
       "      <th>Seller Status Code</th>\n",
       "      <th>Seller Rating</th>\n",
       "      <th>Seller Date Registered</th>\n",
       "      <th>Seller Date Contract Start</th>\n",
       "      <th>Seller Distinguished</th>\n",
       "      <th>State</th>\n",
       "      <th>Country</th>\n",
       "      <th>Address Status</th>\n",
       "      <th>Address Type</th>\n",
       "      <th>Account Id</th>\n",
       "      <th>Contact Id</th>\n",
       "    </tr>\n",
       "  </thead>\n",
       "  <tbody>\n",
       "    <tr>\n",
       "      <th>0</th>\n",
       "      <td>f_2</td>\n",
       "      <td>Closed</td>\n",
       "      <td>Closed - Voluntary</td>\n",
       "      <td>NaN</td>\n",
       "      <td>2001-10-10 00:12:55</td>\n",
       "      <td>1970-01-01</td>\n",
       "      <td>0</td>\n",
       "      <td>NaN</td>\n",
       "      <td>FR</td>\n",
       "      <td>ACTIVE</td>\n",
       "      <td>SELLER_SHIPPING</td>\n",
       "      <td>001E000000DwI2OIAV</td>\n",
       "      <td>003E000000ABxThIAL</td>\n",
       "    </tr>\n",
       "    <tr>\n",
       "      <th>1</th>\n",
       "      <td>f_2</td>\n",
       "      <td>Closed</td>\n",
       "      <td>Closed - Voluntary</td>\n",
       "      <td>NaN</td>\n",
       "      <td>2001-10-10 00:12:55</td>\n",
       "      <td>1970-01-01</td>\n",
       "      <td>0</td>\n",
       "      <td>NaN</td>\n",
       "      <td>FR</td>\n",
       "      <td>ACTIVE</td>\n",
       "      <td>SELLER_DEFAULT</td>\n",
       "      <td>001E000000DwI2OIAV</td>\n",
       "      <td>003E000000ABxThIAL</td>\n",
       "    </tr>\n",
       "    <tr>\n",
       "      <th>2</th>\n",
       "      <td>f_2</td>\n",
       "      <td>Closed</td>\n",
       "      <td>Closed - Voluntary</td>\n",
       "      <td>NaN</td>\n",
       "      <td>2001-10-10 00:12:55</td>\n",
       "      <td>1970-01-01</td>\n",
       "      <td>0</td>\n",
       "      <td>NaN</td>\n",
       "      <td>FR</td>\n",
       "      <td>ACTIVE</td>\n",
       "      <td>SELLER_SHIPPING</td>\n",
       "      <td>001E000000DwI2OIAV</td>\n",
       "      <td>003E000000ABxThIAL</td>\n",
       "    </tr>\n",
       "    <tr>\n",
       "      <th>3</th>\n",
       "      <td>f_2</td>\n",
       "      <td>Closed</td>\n",
       "      <td>Closed - Voluntary</td>\n",
       "      <td>NaN</td>\n",
       "      <td>2001-10-10 00:12:55</td>\n",
       "      <td>1970-01-01</td>\n",
       "      <td>0</td>\n",
       "      <td>NaN</td>\n",
       "      <td>FR</td>\n",
       "      <td>ACTIVE</td>\n",
       "      <td>SELLER_DEFAULT</td>\n",
       "      <td>001E000000DwI2OIAV</td>\n",
       "      <td>003E000000ABxThIAL</td>\n",
       "    </tr>\n",
       "    <tr>\n",
       "      <th>4</th>\n",
       "      <td>f_3</td>\n",
       "      <td>Closed</td>\n",
       "      <td>Closed - Voluntary</td>\n",
       "      <td>NaN</td>\n",
       "      <td>2000-09-05 21:19:04</td>\n",
       "      <td>1970-01-01</td>\n",
       "      <td>0</td>\n",
       "      <td>Paris</td>\n",
       "      <td>FR</td>\n",
       "      <td>ACTIVE</td>\n",
       "      <td>SELLER_SHIPPING</td>\n",
       "      <td>001E000000DwI2PIAV</td>\n",
       "      <td>003E000000ABxTiIAL</td>\n",
       "    </tr>\n",
       "  </tbody>\n",
       "</table>\n",
       "</div>"
      ],
      "text/plain": [
       "  Seller Pk Seller Status  Seller Status Code Seller Rating  \\\n",
       "0       f_2        Closed  Closed - Voluntary           NaN   \n",
       "1       f_2        Closed  Closed - Voluntary           NaN   \n",
       "2       f_2        Closed  Closed - Voluntary           NaN   \n",
       "3       f_2        Closed  Closed - Voluntary           NaN   \n",
       "4       f_3        Closed  Closed - Voluntary           NaN   \n",
       "\n",
       "  Seller Date Registered Seller Date Contract Start  Seller Distinguished  \\\n",
       "0    2001-10-10 00:12:55                 1970-01-01                     0   \n",
       "1    2001-10-10 00:12:55                 1970-01-01                     0   \n",
       "2    2001-10-10 00:12:55                 1970-01-01                     0   \n",
       "3    2001-10-10 00:12:55                 1970-01-01                     0   \n",
       "4    2000-09-05 21:19:04                 1970-01-01                     0   \n",
       "\n",
       "   State Country Address Status     Address Type          Account Id  \\\n",
       "0    NaN      FR         ACTIVE  SELLER_SHIPPING  001E000000DwI2OIAV   \n",
       "1    NaN      FR         ACTIVE   SELLER_DEFAULT  001E000000DwI2OIAV   \n",
       "2    NaN      FR         ACTIVE  SELLER_SHIPPING  001E000000DwI2OIAV   \n",
       "3    NaN      FR         ACTIVE   SELLER_DEFAULT  001E000000DwI2OIAV   \n",
       "4  Paris      FR         ACTIVE  SELLER_SHIPPING  001E000000DwI2PIAV   \n",
       "\n",
       "           Contact Id  \n",
       "0  003E000000ABxThIAL  \n",
       "1  003E000000ABxThIAL  \n",
       "2  003E000000ABxThIAL  \n",
       "3  003E000000ABxThIAL  \n",
       "4  003E000000ABxTiIAL  "
      ]
     },
     "execution_count": 77,
     "metadata": {},
     "output_type": "execute_result"
    }
   ],
   "source": [
    "ff.head()"
   ]
  },
  {
   "cell_type": "code",
   "execution_count": 62,
   "metadata": {},
   "outputs": [
    {
     "data": {
      "text/html": [
       "<div>\n",
       "<style scoped>\n",
       "    .dataframe tbody tr th:only-of-type {\n",
       "        vertical-align: middle;\n",
       "    }\n",
       "\n",
       "    .dataframe tbody tr th {\n",
       "        vertical-align: top;\n",
       "    }\n",
       "\n",
       "    .dataframe thead th {\n",
       "        text-align: right;\n",
       "    }\n",
       "</style>\n",
       "<table border=\"1\" class=\"dataframe\">\n",
       "  <thead>\n",
       "    <tr style=\"text-align: right;\">\n",
       "      <th></th>\n",
       "      <th>Id</th>\n",
       "      <th>Seller Pk</th>\n",
       "      <th>Seller Status</th>\n",
       "      <th>Seller Status Code</th>\n",
       "      <th>Seller Rating</th>\n",
       "      <th>Seller Date Registered</th>\n",
       "      <th>Seller Date Contract Start</th>\n",
       "      <th>Seller Distinguished</th>\n",
       "      <th>State</th>\n",
       "      <th>Country</th>\n",
       "      <th>Address Id</th>\n",
       "      <th>Address Status</th>\n",
       "      <th>Address Type</th>\n",
       "      <th>Account Id</th>\n",
       "      <th>Contact Id</th>\n",
       "    </tr>\n",
       "  </thead>\n",
       "  <tbody>\n",
       "    <tr>\n",
       "      <th>51132</th>\n",
       "      <td>14672</td>\n",
       "      <td>a_14672</td>\n",
       "      <td>Pending</td>\n",
       "      <td>Pending - Unpaid</td>\n",
       "      <td>C</td>\n",
       "      <td>2021-01-14 17:33:27</td>\n",
       "      <td>2021-01-14 05:00:00</td>\n",
       "      <td>0</td>\n",
       "      <td>CA</td>\n",
       "      <td>US</td>\n",
       "      <td>125087762</td>\n",
       "      <td>ACTIVE</td>\n",
       "      <td>SELLER_PAY</td>\n",
       "      <td>0010h00001ibkzbAAA</td>\n",
       "      <td>0030h00002glVTMAA2</td>\n",
       "    </tr>\n",
       "    <tr>\n",
       "      <th>51133</th>\n",
       "      <td>14672</td>\n",
       "      <td>a_14672</td>\n",
       "      <td>Pending</td>\n",
       "      <td>Pending - Unpaid</td>\n",
       "      <td>C</td>\n",
       "      <td>2021-01-14 17:33:27</td>\n",
       "      <td>2021-01-14 05:00:00</td>\n",
       "      <td>0</td>\n",
       "      <td>CA</td>\n",
       "      <td>US</td>\n",
       "      <td>125087772</td>\n",
       "      <td>ACTIVE</td>\n",
       "      <td>SELLER_SHIPPING</td>\n",
       "      <td>0010h00001ibkzbAAA</td>\n",
       "      <td>0030h00002glVTMAA2</td>\n",
       "    </tr>\n",
       "    <tr>\n",
       "      <th>51134</th>\n",
       "      <td>14672</td>\n",
       "      <td>a_14672</td>\n",
       "      <td>Pending</td>\n",
       "      <td>Pending - Unpaid</td>\n",
       "      <td>C</td>\n",
       "      <td>2021-01-14 17:33:27</td>\n",
       "      <td>2021-01-14 05:00:00</td>\n",
       "      <td>0</td>\n",
       "      <td>CA</td>\n",
       "      <td>US</td>\n",
       "      <td>125087772</td>\n",
       "      <td>ACTIVE</td>\n",
       "      <td>SELLER_DEFAULT</td>\n",
       "      <td>0010h00001ibkzbAAA</td>\n",
       "      <td>0030h00002glVTMAA2</td>\n",
       "    </tr>\n",
       "    <tr>\n",
       "      <th>51135</th>\n",
       "      <td>14672</td>\n",
       "      <td>a_14672</td>\n",
       "      <td>Pending</td>\n",
       "      <td>Pending - Unpaid</td>\n",
       "      <td>C</td>\n",
       "      <td>2021-01-14 17:33:27</td>\n",
       "      <td>2021-01-14 05:00:00</td>\n",
       "      <td>0</td>\n",
       "      <td>CA</td>\n",
       "      <td>US</td>\n",
       "      <td>125087772</td>\n",
       "      <td>ACTIVE</td>\n",
       "      <td>SELLER_SHIPPING</td>\n",
       "      <td>0010h00001ibkzbAAA</td>\n",
       "      <td>0030h00002glVTMAA2</td>\n",
       "    </tr>\n",
       "    <tr>\n",
       "      <th>51136</th>\n",
       "      <td>14672</td>\n",
       "      <td>a_14672</td>\n",
       "      <td>Pending</td>\n",
       "      <td>Pending - Unpaid</td>\n",
       "      <td>C</td>\n",
       "      <td>2021-01-14 17:33:27</td>\n",
       "      <td>2021-01-14 05:00:00</td>\n",
       "      <td>0</td>\n",
       "      <td>CA</td>\n",
       "      <td>US</td>\n",
       "      <td>125087772</td>\n",
       "      <td>ACTIVE</td>\n",
       "      <td>SELLER_DEFAULT</td>\n",
       "      <td>0010h00001ibkzbAAA</td>\n",
       "      <td>0030h00002glVTMAA2</td>\n",
       "    </tr>\n",
       "  </tbody>\n",
       "</table>\n",
       "</div>"
      ],
      "text/plain": [
       "          Id Seller Pk Seller Status Seller Status Code Seller Rating  \\\n",
       "51132  14672   a_14672       Pending   Pending - Unpaid             C   \n",
       "51133  14672   a_14672       Pending   Pending - Unpaid             C   \n",
       "51134  14672   a_14672       Pending   Pending - Unpaid             C   \n",
       "51135  14672   a_14672       Pending   Pending - Unpaid             C   \n",
       "51136  14672   a_14672       Pending   Pending - Unpaid             C   \n",
       "\n",
       "      Seller Date Registered Seller Date Contract Start  Seller Distinguished  \\\n",
       "51132    2021-01-14 17:33:27        2021-01-14 05:00:00                     0   \n",
       "51133    2021-01-14 17:33:27        2021-01-14 05:00:00                     0   \n",
       "51134    2021-01-14 17:33:27        2021-01-14 05:00:00                     0   \n",
       "51135    2021-01-14 17:33:27        2021-01-14 05:00:00                     0   \n",
       "51136    2021-01-14 17:33:27        2021-01-14 05:00:00                     0   \n",
       "\n",
       "      State Country  Address Id Address Status     Address Type  \\\n",
       "51132    CA      US   125087762         ACTIVE       SELLER_PAY   \n",
       "51133    CA      US   125087772         ACTIVE  SELLER_SHIPPING   \n",
       "51134    CA      US   125087772         ACTIVE   SELLER_DEFAULT   \n",
       "51135    CA      US   125087772         ACTIVE  SELLER_SHIPPING   \n",
       "51136    CA      US   125087772         ACTIVE   SELLER_DEFAULT   \n",
       "\n",
       "               Account Id          Contact Id  \n",
       "51132  0010h00001ibkzbAAA  0030h00002glVTMAA2  \n",
       "51133  0010h00001ibkzbAAA  0030h00002glVTMAA2  \n",
       "51134  0010h00001ibkzbAAA  0030h00002glVTMAA2  \n",
       "51135  0010h00001ibkzbAAA  0030h00002glVTMAA2  \n",
       "51136  0010h00001ibkzbAAA  0030h00002glVTMAA2  "
      ]
     },
     "execution_count": 62,
     "metadata": {},
     "output_type": "execute_result"
    }
   ],
   "source": [
    "ff.tail()"
   ]
  }
 ],
 "metadata": {
  "kernelspec": {
   "display_name": "Python 3",
   "language": "python",
   "name": "python3"
  },
  "language_info": {
   "codemirror_mode": {
    "name": "ipython",
    "version": 3
   },
   "file_extension": ".py",
   "mimetype": "text/x-python",
   "name": "python",
   "nbconvert_exporter": "python",
   "pygments_lexer": "ipython3",
   "version": "3.7.4"
  }
 },
 "nbformat": 4,
 "nbformat_minor": 2
}
